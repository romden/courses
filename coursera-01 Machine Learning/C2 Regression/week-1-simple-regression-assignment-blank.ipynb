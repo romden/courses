{
 "cells": [
  {
   "cell_type": "markdown",
   "metadata": {},
   "source": [
    "# Regression Week 1: Simple Linear Regression"
   ]
  },
  {
   "cell_type": "markdown",
   "metadata": {},
   "source": [
    "In this notebook we will use data on house sales in King County to predict house prices using simple (one input) linear regression. You will:\n",
    "* Use graphlab SArray and SFrame functions to compute important summary statistics\n",
    "* Write a function to compute the Simple Linear Regression weights using the closed form solution\n",
    "* Write a function to make predictions of the output given the input feature\n",
    "* Turn the regression around to predict the input given the output\n",
    "* Compare two different models for predicting house prices\n",
    "\n",
    "In this notebook you will be provided with some already complete code as well as some code that you should complete yourself in order to answer quiz questions. The code we provide to complte is optional and is there to assist you with solving the problems but feel free to ignore the helper code and write your own."
   ]
  },
  {
   "cell_type": "markdown",
   "metadata": {},
   "source": [
    "# Fire up graphlab create"
   ]
  },
  {
   "cell_type": "code",
   "execution_count": 2,
   "metadata": {
    "collapsed": false
   },
   "outputs": [],
   "source": [
    "import graphlab"
   ]
  },
  {
   "cell_type": "markdown",
   "metadata": {},
   "source": [
    "# Load house sales data\n",
    "\n",
    "Dataset is from house sales in King County, the region where the city of Seattle, WA is located."
   ]
  },
  {
   "cell_type": "code",
   "execution_count": 3,
   "metadata": {
    "collapsed": false
   },
   "outputs": [
    {
     "name": "stdout",
     "output_type": "stream",
     "text": [
      "This non-commercial license of GraphLab Create for academic use is assigned to denysiukr@gmail.com and will expire on February 10, 2018.\n"
     ]
    },
    {
     "name": "stderr",
     "output_type": "stream",
     "text": [
      "[INFO] graphlab.cython.cy_server: GraphLab Create v2.1 started. Logging: C:\\Users\\roman\\AppData\\Local\\Temp\\graphlab_server_1486899363.log.0\n"
     ]
    }
   ],
   "source": [
    "sales = graphlab.SFrame('kc_house_data.gl/')"
   ]
  },
  {
   "cell_type": "markdown",
   "metadata": {},
   "source": [
    "# Split data into training and testing"
   ]
  },
  {
   "cell_type": "markdown",
   "metadata": {},
   "source": [
    "We use seed=0 so that everyone running this notebook gets the same results.  In practice, you may set a random seed (or let GraphLab Create pick a random seed for you).  "
   ]
  },
  {
   "cell_type": "code",
   "execution_count": 4,
   "metadata": {
    "collapsed": false
   },
   "outputs": [],
   "source": [
    "train_data,test_data = sales.random_split(.8,seed=0)"
   ]
  },
  {
   "cell_type": "markdown",
   "metadata": {},
   "source": [
    "# Useful SFrame summary functions"
   ]
  },
  {
   "cell_type": "markdown",
   "metadata": {},
   "source": [
    "In order to make use of the closed form solution as well as take advantage of graphlab's built in functions we will review some important ones. In particular:\n",
    "* Computing the sum of an SArray\n",
    "* Computing the arithmetic average (mean) of an SArray\n",
    "* multiplying SArrays by constants\n",
    "* multiplying SArrays by other SArrays"
   ]
  },
  {
   "cell_type": "code",
   "execution_count": 5,
   "metadata": {
    "collapsed": false
   },
   "outputs": [
    {
     "name": "stdout",
     "output_type": "stream",
     "text": [
      "average price via method 1: 540088.141905\n",
      "average price via method 2: 540088.141905\n"
     ]
    }
   ],
   "source": [
    "# Let's compute the mean of the House Prices in King County in 2 different ways.\n",
    "prices = sales['price'] # extract the price column of the sales SFrame -- this is now an SArray\n",
    "\n",
    "# recall that the arithmetic average (the mean) is the sum of the prices divided by the total number of houses:\n",
    "sum_prices = prices.sum()\n",
    "num_houses = prices.size() # when prices is an SArray .size() returns its length\n",
    "avg_price_1 = sum_prices/num_houses\n",
    "avg_price_2 = prices.mean() # if you just want the average, the .mean() function\n",
    "print \"average price via method 1: \" + str(avg_price_1)\n",
    "print \"average price via method 2: \" + str(avg_price_2)"
   ]
  },
  {
   "cell_type": "markdown",
   "metadata": {},
   "source": [
    "As we see we get the same answer both ways"
   ]
  },
  {
   "cell_type": "code",
   "execution_count": 6,
   "metadata": {
    "collapsed": false
   },
   "outputs": [
    {
     "name": "stdout",
     "output_type": "stream",
     "text": [
      "the sum of price squared is: 9.21732513355e+15\n"
     ]
    }
   ],
   "source": [
    "# if we want to multiply every price by 0.5 it's a simple as:\n",
    "half_prices = 0.5*prices\n",
    "# Let's compute the sum of squares of price. We can multiply two SArrays of the same length elementwise also with *\n",
    "prices_squared = prices*prices\n",
    "sum_prices_squared = prices_squared.sum() # price_squared is an SArray of the squares and we want to add them up.\n",
    "print \"the sum of price squared is: \" + str(sum_prices_squared)"
   ]
  },
  {
   "cell_type": "markdown",
   "metadata": {},
   "source": [
    "Aside: The python notation x.xxe+yy means x.xx \\* 10^(yy). e.g 100 = 10^2 = 1*10^2 = 1e2 "
   ]
  },
  {
   "cell_type": "markdown",
   "metadata": {},
   "source": [
    "# Build a generic simple linear regression function "
   ]
  },
  {
   "cell_type": "markdown",
   "metadata": {},
   "source": [
    "Armed with these SArray functions we can use the closed form solution found from lecture to compute the slope and intercept for a simple linear regression on observations stored as SArrays: input_feature, output.\n",
    "\n",
    "Complete the following function (or write your own) to compute the simple linear regression slope and intercept:"
   ]
  },
  {
   "cell_type": "code",
   "execution_count": 14,
   "metadata": {
    "collapsed": false
   },
   "outputs": [],
   "source": [
    "def simple_linear_regression(input_feature, output):\n",
    "    # get size of data\n",
    "    n = input_feature.size()\n",
    "    \n",
    "    # compute the sum of input_feature and output    \n",
    "    sum_x = input_feature.sum()\n",
    "    sum_y = output.sum()\n",
    "    \n",
    "    # compute the product of the output and the input_feature and its sum\n",
    "    yx = input_feature * output\n",
    "    sum_yx = yx.sum()\n",
    "    \n",
    "    # compute the squared value of the input_feature and its sum\n",
    "    x_sqaured = input_feature * input_feature\n",
    "    sum_x_sqaured = x_sqaured.sum()\n",
    "    \n",
    "    # use the formula for the slope        \n",
    "    slope = (sum_yx - (sum_y * sum_x)/n) / (sum_x_sqaured - (sum_x * sum_x)/n)\n",
    "    \n",
    "    # use the formula for the intercept\n",
    "    intercept = sum_y/n - slope * sum_x/n\n",
    "    \n",
    "    return (intercept, slope)"
   ]
  },
  {
   "cell_type": "markdown",
   "metadata": {},
   "source": [
    "We can test that our function works by passing it something where we know the answer. In particular we can generate a feature and then put the output exactly on a line: output = 1 + 1\\*input_feature then we know both our slope and intercept should be 1"
   ]
  },
  {
   "cell_type": "code",
   "execution_count": 29,
   "metadata": {
    "collapsed": false,
    "scrolled": true
   },
   "outputs": [
    {
     "name": "stdout",
     "output_type": "stream",
     "text": [
      "Intercept: 1\n",
      "Slope: 1\n"
     ]
    }
   ],
   "source": [
    "# test simple_linear_regression function\n",
    "# -----------------------------my\n",
    "#import numpy as np\n",
    "#temp_x = graphlab.SArray(np.random.random(10))\n",
    "#temp_y = graphlab.SArray(np.ones(10)) + temp_x\n",
    "#(w0, w1) = simple_linear_regression(temp_x, temp_y)\n",
    "#print temp_x\n",
    "#print \"intersept is \" + str(w1)\n",
    "#print \"slope is \" + str(w0)\n",
    "\n",
    "# -----------------------------coursera\n",
    "test_feature = graphlab.SArray(range(5))\n",
    "test_output = graphlab.SArray(1 + 1*test_feature)\n",
    "(test_intercept, test_slope) =  simple_linear_regression(test_feature, test_output)\n",
    "print \"Intercept: \" + str(test_intercept)\n",
    "print \"Slope: \" + str(test_slope)"
   ]
  },
  {
   "cell_type": "markdown",
   "metadata": {},
   "source": [
    "Now that we know it works let's build a regression model for predicting price based on sqft_living. Rembember that we train on train_data!"
   ]
  },
  {
   "cell_type": "code",
   "execution_count": 32,
   "metadata": {
    "collapsed": false
   },
   "outputs": [
    {
     "name": "stdout",
     "output_type": "stream",
     "text": [
      "Intercept: -47116.0765749\n",
      "Slope: 281.958838568\n"
     ]
    }
   ],
   "source": [
    "sqft_intercept, sqft_slope = simple_linear_regression(train_data['sqft_living'], train_data['price'])\n",
    "\n",
    "print \"Intercept: \" + str(sqft_intercept)\n",
    "print \"Slope: \" + str(sqft_slope)"
   ]
  },
  {
   "cell_type": "markdown",
   "metadata": {},
   "source": [
    "# Predicting Values"
   ]
  },
  {
   "cell_type": "markdown",
   "metadata": {},
   "source": [
    "Now that we have the model parameters: intercept & slope we can make predictions. Using SArrays it's easy to multiply an SArray by a constant and add a constant value. Complete the following function to return the predicted output given the input_feature, slope and intercept:"
   ]
  },
  {
   "cell_type": "code",
   "execution_count": 31,
   "metadata": {
    "collapsed": false
   },
   "outputs": [],
   "source": [
    "def get_regression_predictions(input_feature, intercept, slope):\n",
    "    # calculate the predicted values:\n",
    "    predicted_values = intercept + slope * input_feature\n",
    "    \n",
    "    return predicted_values"
   ]
  },
  {
   "cell_type": "markdown",
   "metadata": {},
   "source": [
    "Now that we can calculate a prediction given the slope and intercept let's make a prediction. Use (or alter) the following to find out the estimated price for a house with 2650 squarefeet according to the squarefeet model we estiamted above.\n",
    "\n",
    "**Quiz Question: Using your Slope and Intercept from (4), What is the predicted price for a house with 2650 sqft?**"
   ]
  },
  {
   "cell_type": "code",
   "execution_count": 33,
   "metadata": {
    "collapsed": false
   },
   "outputs": [
    {
     "name": "stdout",
     "output_type": "stream",
     "text": [
      "The estimated price for a house with 2650 squarefeet is $700074.85\n"
     ]
    }
   ],
   "source": [
    "my_house_sqft = 2650\n",
    "estimated_price = get_regression_predictions(my_house_sqft, sqft_intercept, sqft_slope)\n",
    "print \"The estimated price for a house with %d squarefeet is $%.2f\" % (my_house_sqft, estimated_price)"
   ]
  },
  {
   "cell_type": "markdown",
   "metadata": {},
   "source": [
    "# Residual Sum of Squares"
   ]
  },
  {
   "cell_type": "markdown",
   "metadata": {},
   "source": [
    "Now that we have a model and can make predictions let's evaluate our model using Residual Sum of Squares (RSS). Recall that RSS is the sum of the squares of the residuals and the residuals is just a fancy word for the difference between the predicted output and the true output. \n",
    "\n",
    "Complete the following (or write your own) function to compute the RSS of a simple linear regression model given the input_feature, output, intercept and slope:"
   ]
  },
  {
   "cell_type": "code",
   "execution_count": 34,
   "metadata": {
    "collapsed": true
   },
   "outputs": [],
   "source": [
    "def get_residual_sum_of_squares(input_feature, output, intercept, slope):\n",
    "    # First get the predictions\n",
    "    predictions = get_regression_predictions(input_feature, intercept, slope)\n",
    "\n",
    "    # then compute the residuals (since we are squaring it doesn't matter which order you subtract)\n",
    "    residuals = output - predictions\n",
    "\n",
    "    # square the residuals and add them up\n",
    "    residuals_sqared = residuals ** 2\n",
    "    RSS = residuals_sqared.sum()\n",
    "\n",
    "    return(RSS)"
   ]
  },
  {
   "cell_type": "markdown",
   "metadata": {},
   "source": [
    "Let's test our get_residual_sum_of_squares function by applying it to the test model where the data lie exactly on a line. Since they lie exactly on a line the residual sum of squares should be zero!"
   ]
  },
  {
   "cell_type": "code",
   "execution_count": 35,
   "metadata": {
    "collapsed": false
   },
   "outputs": [
    {
     "name": "stdout",
     "output_type": "stream",
     "text": [
      "0.0\n"
     ]
    }
   ],
   "source": [
    "print get_residual_sum_of_squares(test_feature, test_output, test_intercept, test_slope) # should be 0.0"
   ]
  },
  {
   "cell_type": "markdown",
   "metadata": {},
   "source": [
    "Now use your function to calculate the RSS on training data from the squarefeet model calculated above.\n",
    "\n",
    "**Quiz Question: According to this function and the slope and intercept from the squarefeet model What is the RSS for the simple linear regression using squarefeet to predict prices on TRAINING data?**"
   ]
  },
  {
   "cell_type": "code",
   "execution_count": 36,
   "metadata": {
    "collapsed": false
   },
   "outputs": [
    {
     "name": "stdout",
     "output_type": "stream",
     "text": [
      "The RSS of predicting Prices based on Square Feet is : 1.20191835632e+15\n"
     ]
    }
   ],
   "source": [
    "rss_prices_on_sqft = get_residual_sum_of_squares(train_data['sqft_living'], train_data['price'], sqft_intercept, sqft_slope)\n",
    "print 'The RSS of predicting Prices based on Square Feet is : ' + str(rss_prices_on_sqft)"
   ]
  },
  {
   "cell_type": "markdown",
   "metadata": {},
   "source": [
    "# Predict the squarefeet given price"
   ]
  },
  {
   "cell_type": "markdown",
   "metadata": {},
   "source": [
    "What if we want to predict the squarefoot given the price? Since we have an equation y = a + b\\*x we can solve the function for x. So that if we have the intercept (a) and the slope (b) and the price (y) we can solve for the estimated squarefeet (x).\n",
    "\n",
    "Complete the following function to compute the inverse regression estimate, i.e. predict the input_feature given the output."
   ]
  },
  {
   "cell_type": "code",
   "execution_count": 39,
   "metadata": {
    "collapsed": true
   },
   "outputs": [],
   "source": [
    "def inverse_regression_predictions(output, intercept, slope):\n",
    "    # solve output = intercept + slope*input_feature for input_feature. Use this equation to compute the inverse predictions:\n",
    "    estimated_feature = (output - intercept) / slope\n",
    "\n",
    "    return estimated_feature"
   ]
  },
  {
   "cell_type": "markdown",
   "metadata": {},
   "source": [
    "Now that we have a function to compute the squarefeet given the price from our simple regression model let's see how big we might expect a house that costs $800,000 to be.\n",
    "\n",
    "**Quiz Question: According to this function and the regression slope and intercept from (3) what is the estimated square-feet for a house costing $800,000?**"
   ]
  },
  {
   "cell_type": "code",
   "execution_count": 40,
   "metadata": {
    "collapsed": false
   },
   "outputs": [
    {
     "name": "stdout",
     "output_type": "stream",
     "text": [
      "The estimated squarefeet for a house worth $800000.00 is 3004\n"
     ]
    }
   ],
   "source": [
    "my_house_price = 800000\n",
    "estimated_squarefeet = inverse_regression_predictions(my_house_price, sqft_intercept, sqft_slope)\n",
    "print \"The estimated squarefeet for a house worth $%.2f is %d\" % (my_house_price, estimated_squarefeet)"
   ]
  },
  {
   "cell_type": "markdown",
   "metadata": {},
   "source": [
    "# New Model: estimate prices from bedrooms"
   ]
  },
  {
   "cell_type": "markdown",
   "metadata": {},
   "source": [
    "We have made one model for predicting house prices using squarefeet, but there are many other features in the sales SFrame. \n",
    "Use your simple linear regression function to estimate the regression parameters from predicting Prices based on number of bedrooms. Use the training data!"
   ]
  },
  {
   "cell_type": "code",
   "execution_count": 47,
   "metadata": {
    "collapsed": false
   },
   "outputs": [
    {
     "name": "stdout",
     "output_type": "stream",
     "text": [
      "intercept is 109473.18 and slope is 127588.95\n"
     ]
    }
   ],
   "source": [
    "# Estimate the slope and intercept for predicting 'price' based on 'bedrooms'\n",
    "bedrooms_intercept, bedrooms_slope = simple_linear_regression(train_data['bedrooms'], train_data['price'])\n",
    "\n",
    "print \"intercept is %.2f and slope is %.2f\" % (bedrooms_intercept, bedrooms_slope)\n",
    "#print bedrooms_intercept\n",
    "#print bedrooms_slope"
   ]
  },
  {
   "cell_type": "markdown",
   "metadata": {},
   "source": [
    "# Test your Linear Regression Algorithm"
   ]
  },
  {
   "cell_type": "markdown",
   "metadata": {},
   "source": [
    "Now we have two models for predicting the price of a house. How do we know which one is better? Calculate the RSS on the TEST data (remember this data wasn't involved in learning the model). Compute the RSS from predicting prices using bedrooms and from predicting prices using squarefeet.\n",
    "\n",
    "**Quiz Question: Which model (square feet or bedrooms) has lowest RSS on TEST data? Think about why this might be the case.**"
   ]
  },
  {
   "cell_type": "code",
   "execution_count": 48,
   "metadata": {
    "collapsed": false
   },
   "outputs": [
    {
     "name": "stdout",
     "output_type": "stream",
     "text": [
      "4.93364582868e+14\n"
     ]
    }
   ],
   "source": [
    "# Compute RSS when using bedrooms on TEST data:\n",
    "RSS_bedrooms = get_residual_sum_of_squares(test_data['bedrooms'], test_data['price'], bedrooms_intercept, bedrooms_slope)\n",
    "print RSS_bedrooms"
   ]
  },
  {
   "cell_type": "code",
   "execution_count": 49,
   "metadata": {
    "collapsed": false
   },
   "outputs": [
    {
     "name": "stdout",
     "output_type": "stream",
     "text": [
      "2.75402936247e+14\n"
     ]
    }
   ],
   "source": [
    "# Compute RSS when using squarefeet on TEST data:\n",
    "RSS_sqft = get_residual_sum_of_squares(test_data['sqft_living'], test_data['price'], sqft_intercept, sqft_slope)\n",
    "print RSS_sqft"
   ]
  },
  {
   "cell_type": "code",
   "execution_count": 55,
   "metadata": {
    "collapsed": false
   },
   "outputs": [
    {
     "data": {
      "application/javascript": [
       "$(\"head\").append($(\"<link/>\").attr({\n",
       "  rel:  \"stylesheet\",\n",
       "  type: \"text/css\",\n",
       "  href: \"//cdnjs.cloudflare.com/ajax/libs/font-awesome/4.1.0/css/font-awesome.min.css\"\n",
       "}));\n",
       "$(\"head\").append($(\"<link/>\").attr({\n",
       "  rel:  \"stylesheet\",\n",
       "  type: \"text/css\",\n",
       "  href: \"https://static.turi.com/products/graphlab-create/2.1/canvas/css/canvas.css\"\n",
       "}));\n",
       "\n",
       "            (function(){\n",
       "\n",
       "                var e = null;\n",
       "                if (typeof element == 'undefined') {\n",
       "                    var scripts = document.getElementsByTagName('script');\n",
       "                    var thisScriptTag = scripts[scripts.length-1];\n",
       "                    var parentDiv = thisScriptTag.parentNode;\n",
       "                    e = document.createElement('div');\n",
       "                    parentDiv.appendChild(e);\n",
       "                } else {\n",
       "                    e = element[0];\n",
       "                }\n",
       "\n",
       "                if (typeof requirejs !== 'undefined') {\n",
       "                    // disable load timeout; ipython_app.js is large and can take a while to load.\n",
       "                    requirejs.config({waitSeconds: 0});\n",
       "                }\n",
       "\n",
       "                require(['https://static.turi.com/products/graphlab-create/2.1/canvas/js/ipython_app.js'], function(IPythonApp){\n",
       "                    var app = new IPythonApp();\n",
       "                    app.attachView('sframe','Plots', {\"selected_variable\": {\"name\": [\"test_data\"], \"descriptives\": {\"rows\": 4229, \"columns\": 21}, \"view_component\": \"Plots\", \"view_file\": \"sframe\", \"view_params\": {\"y\": \"price\", \"x\": \"sqft_living\", \"columns\": [\"id\", \"date\", \"price\", \"bedrooms\", \"bathrooms\", \"sqft_living\", \"sqft_lot\", \"floors\", \"waterfront\", \"view\", \"condition\", \"grade\", \"sqft_above\", \"sqft_basement\", \"yr_built\", \"yr_renovated\", \"zipcode\", \"lat\", \"long\", \"sqft_living15\", \"sqft_lot15\"], \"view\": \"Scatter Plot\"}, \"view_components\": [\"Summary\", \"Table\", \"Bar Chart\", \"BoxWhisker Plot\", \"Line Chart\", \"Scatter Plot\", \"Heat Map\", \"Plots\"], \"type\": \"SFrame\", \"columns\": [{\"dtype\": \"str\", \"name\": \"id\"}, {\"dtype\": \"datetime\", \"name\": \"date\"}, {\"dtype\": \"float\", \"name\": \"price\"}, {\"dtype\": \"float\", \"name\": \"bedrooms\"}, {\"dtype\": \"float\", \"name\": \"bathrooms\"}, {\"dtype\": \"float\", \"name\": \"sqft_living\"}, {\"dtype\": \"int\", \"name\": \"sqft_lot\"}, {\"dtype\": \"str\", \"name\": \"floors\"}, {\"dtype\": \"int\", \"name\": \"waterfront\"}, {\"dtype\": \"int\", \"name\": \"view\"}, {\"dtype\": \"int\", \"name\": \"condition\"}, {\"dtype\": \"int\", \"name\": \"grade\"}, {\"dtype\": \"int\", \"name\": \"sqft_above\"}, {\"dtype\": \"int\", \"name\": \"sqft_basement\"}, {\"dtype\": \"int\", \"name\": \"yr_built\"}, {\"dtype\": \"int\", \"name\": \"yr_renovated\"}, {\"dtype\": \"str\", \"name\": \"zipcode\"}, {\"dtype\": \"float\", \"name\": \"lat\"}, {\"dtype\": \"float\", \"name\": \"long\"}, {\"dtype\": \"float\", \"name\": \"sqft_living15\"}, {\"dtype\": \"float\", \"name\": \"sqft_lot15\"}], \"column_identifiers\": [\"bathrooms\", \"sqft_living15\", \"sqft_above\", \"grade\", \"yr_built\", \"price\", \"bedrooms\", \"zipcode\", \"long\", \"id\", \"sqft_lot15\", \"sqft_living\", \"floors\", \"sqft_lot\", \"date\", \"waterfront\", \"sqft_basement\", \"yr_renovated\", \"lat\", \"condition\", \"view\"]}, \"complete\": 1, \"ipython\": true, \"progress\": 1.0, \"data\": [[1430.0, 310000.0], [1370.0, 238000.0], [1710.0, 233000.0], [1020.0, 450000.0], [1820.0, 325000.0], [1930.0, 700000.0], [1560.0, 400000.0], [1400.0, 214950.0], [1260.0, 289000.0], [2750.0, 571000.0], [3020.0, 530000.0], [4230.0, 847700.0], [2380.0, 529000.0], [3000.0, 759900.0], [2030.0, 470000.0], [3080.0, 1655000.0], [2910.0, 770000.0], [1170.0, 519950.0], [2507.0, 551870.0], [1060.0, 420000.0], [1470.0, 180000.0], [2370.0, 310000.0], [2060.0, 255000.0], [2290.0, 753000.0], [2680.0, 807100.0], [2330.0, 826000.0], [1440.0, 390000.0], [1120.0, 425000.0], [1530.0, 452000.0], [1560.0, 598500.0], [1920.0, 781000.0], [1780.0, 654500.0], [1220.0, 237200.0], [1660.0, 250000.0], [880.0, 255000.0], [2980.0, 565000.0], [1720.0, 264950.0], [3760.0, 1025000.0], [3510.0, 1370000.0], [1710.0, 470000.0], [2150.0, 229950.0], [2060.0, 700000.0], [1720.0, 667000.0], [1900.0, 579000.0], [1900.0, 335000.0], [3830.0, 2050000.0], [3160.0, 1381000.0], [2290.0, 661254.0], [2120.0, 650000.0], [1160.0, 380000.0], [1740.0, 827235.0], [4660.0, 2641100.0], [1290.0, 370000.0], [2230.0, 368750.0], [2430.0, 412950.0], [1820.0, 790000.0], [1850.0, 230000.0], [2430.0, 723000.0], [2050.0, 740000.0], [1150.0, 129000.0], [2940.0, 950000.0], [1800.0, 362500.0], [1300.0, 400000.0], [2300.0, 400000.0], [2580.0, 552250.0], [3000.0, 398950.0], [3850.0, 1200000.0], [1330.0, 245000.0], [1788.0, 294400.0], [3170.0, 890776.0], [1300.0, 270000.0], [2470.0, 485000.0], [1940.0, 520000.0], [1540.0, 539000.0], [770.0, 315000.0], [2510.0, 799000.0], [1850.0, 611000.0], [1980.0, 490000.0], [1910.0, 260000.0], [2790.0, 695000.0], [2110.0, 1150000.0], [2240.0, 635000.0], [3850.0, 995000.0], [3580.0, 879900.0], [2270.0, 575000.0], [1870.0, 554000.0], [2110.0, 300000.0], [3000.0, 607500.0], [1910.0, 630100.0], [4040.0, 988000.0], [2610.0, 1000000.0], [1250.0, 350000.0], [2410.0, 610000.0], [1370.0, 667000.0], [2370.0, 400000.0], [1480.0, 650000.0], [2450.0, 682000.0], [2270.0, 340500.0], [1610.0, 290900.0], [630.0, 315000.0], [4860.0, 1385000.0], [1580.0, 452000.0], [1000.0, 375000.0], [1160.0, 215000.0], [700.0, 295000.0], [2500.0, 599950.0], [1710.0, 488500.0], [1350.0, 571000.0], [720.0, 150000.0], [1550.0, 430000.0], [2350.0, 459995.0], [1040.0, 204000.0], [1610.0, 358000.0], [1920.0, 329950.0], [1190.0, 555000.0], [1360.0, 244000.0], [1110.0, 440150.0], [2810.0, 825000.0], [2560.0, 640000.0], [1180.0, 610000.0], [3590.0, 1302000.0], [1830.0, 338900.0], [3040.0, 620000.0], [2190.0, 391000.0], [1820.0, 265000.0], [1140.0, 172500.0], [2280.0, 570000.0], [3200.0, 1220000.0], [1090.0, 149000.0], [1460.0, 400000.0], [1880.0, 485000.0], [1940.0, 299000.0], [1910.0, 565000.0], [950.0, 304000.0], [2230.0, 549950.0], [2020.0, 521000.0], [3180.0, 1000000.0], [2060.0, 264500.0], [1680.0, 350000.0], [1140.0, 455000.0], [990.0, 222500.0], [2000.0, 630000.0], [2570.0, 654000.0], [1140.0, 330000.0], [2550.0, 850000.0], [2800.0, 915000.0], [1450.0, 243000.0], [1630.0, 541000.0], [2300.0, 680000.0], [1540.0, 370000.0], [1300.0, 374990.0], [2993.0, 540000.0], [4260.0, 1000000.0], [1580.0, 267000.0], [3070.0, 804100.0], [3560.0, 1160000.0], [3800.0, 630000.0], [1390.0, 431000.0], [1470.0, 615000.0], [1520.0, 650000.0], [3950.0, 1310000.0], [1500.0, 239000.0], [1400.0, 330000.0], [1670.0, 289000.0], [2400.0, 569000.0], [2710.0, 715000.0], [2580.0, 383000.0], [1080.0, 147400.0], [1940.0, 232500.0], [3020.0, 775000.0], [5220.0, 1481000.0], [1560.0, 537000.0], [840.0, 361500.0], [1680.0, 347000.0], [1150.0, 310000.0], [1660.0, 412000.0], [2280.0, 849900.0], [2050.0, 584999.0], [4010.0, 1395000.0], [1660.0, 601150.0], [2340.0, 429000.0], [2910.0, 525000.0], [4270.0, 997950.0], [2040.0, 720000.0], [1690.0, 705000.0], [3420.0, 965000.0], [2130.0, 325000.0], [3910.0, 709950.0], [3830.0, 1700000.0], [3400.0, 950000.0], [1410.0, 205000.0], [1930.0, 250600.0], [1990.0, 536000.0], [2060.0, 257500.0], [2020.0, 253000.0], [1850.0, 260000.0], [1810.0, 260000.0], [2100.0, 211000.0], [2650.0, 580000.0], [1890.0, 355000.0], [1710.0, 332544.0], [4260.0, 3400000.0], [1290.0, 492000.0], [1740.0, 349000.0], [1970.0, 425500.0], [2320.0, 779000.0], [870.0, 271310.0], [1490.0, 245000.0], [1350.0, 429000.0], [1520.0, 362500.0], [2440.0, 550000.0], [1110.0, 250000.0], [2290.0, 580000.0], [1920.0, 515000.0], [940.0, 325000.0], [1020.0, 399950.0], [1520.0, 550000.0], [1830.0, 524950.0], [1050.0, 360000.0], [1584.0, 267000.0], [2440.0, 700000.0], [4190.0, 2546000.0], [2090.0, 400000.0], [720.0, 151000.0], [1020.0, 350000.0], [1260.0, 195000.0], [1300.0, 308000.0], [830.0, 325000.0], [2540.0, 350900.0], [1980.0, 545800.0], [1350.0, 353000.0], [1970.0, 289000.0], [2220.0, 275000.0], [1130.0, 400000.0], [2100.0, 399000.0], [3340.0, 910000.0], [3810.0, 760000.0], [1860.0, 280000.0], [1030.0, 230005.0], [1200.0, 228950.0], [910.0, 275000.0], [2010.0, 299500.0], [1580.0, 705000.0], [1660.0, 619000.0], [1690.0, 410000.0], [1320.0, 229000.0], [2910.0, 645000.0], [2270.0, 479000.0], [1580.0, 525000.0], [1270.0, 599380.0], [4190.0, 460000.0], [2190.0, 418500.0], [2300.0, 567500.0], [4720.0, 745000.0], [1710.0, 211000.0], [1680.0, 625000.0], [1320.0, 499950.0], [2340.0, 645000.0], [1840.0, 375000.0], [1100.0, 277000.0], [1800.0, 237000.0], [2000.0, 546000.0], [7620.0, 1680000.0], [1790.0, 414000.0], [3270.0, 735000.0], [3140.0, 765000.0], [2400.0, 590000.0], [2280.0, 750000.0], [980.0, 575000.0], [2950.0, 530000.0], [1650.0, 670000.0], [2310.0, 440000.0], [1720.0, 420000.0], [1070.0, 500000.0], [2460.0, 427500.0], [930.0, 287000.0], [1780.0, 250000.0], [1720.0, 274500.0], [3040.0, 431000.0], [1350.0, 345000.0], [3680.0, 679000.0], [2570.0, 495000.0], [2340.0, 360000.0], [1560.0, 544300.0], [2460.0, 600000.0], [2470.0, 503000.0], [1060.0, 315000.0], [1260.0, 335000.0], [670.0, 183000.0], [1530.0, 474000.0], [3210.0, 399950.0], [1970.0, 371000.0], [1880.0, 326000.0], [1770.0, 1175000.0], [2390.0, 799000.0], [1070.0, 361500.0], [4640.0, 1267500.0], [1730.0, 258000.0], [1200.0, 219000.0], [1160.0, 453000.0], [2460.0, 240000.0], [660.0, 250000.0], [1300.0, 236000.0], [1500.0, 707500.0], [3670.0, 605000.0], [3340.0, 1328000.0], [2280.0, 345000.0], [970.0, 425000.0], [2720.0, 632500.0], [980.0, 204000.0], [960.0, 255000.0], [3330.0, 1190000.0], [3010.0, 785000.0], [2670.0, 675000.0], [2130.0, 819000.0], [1650.0, 525000.0], [3000.0, 1688000.0], [1240.0, 375000.0], [2180.0, 785000.0], [1650.0, 434500.0], [1800.0, 449950.0], [1430.0, 518000.0], [1350.0, 429000.0], [1540.0, 450000.0], [1920.0, 443500.0], [1150.0, 332000.0], [1220.0, 935000.0], [1420.0, 475000.0], [1550.0, 372500.0], [1320.0, 304000.0], [2090.0, 349950.0], [2370.0, 335000.0], [4470.0, 2950000.0], [1050.0, 165000.0], [2530.0, 454000.0], [2310.0, 422000.0], [3480.0, 852500.0], [2280.0, 577500.0], [2708.0, 436952.0], [1730.0, 465000.0], [2510.0, 955000.0], [1910.0, 650000.0], [1010.0, 248000.0], [1530.0, 154000.0], [1240.0, 277700.0], [2090.0, 339000.0], [1480.0, 511200.0], [1480.0, 580000.0], [2220.0, 470000.0], [2360.0, 285000.0], [2400.0, 420000.0], [1782.0, 326000.0], [3800.0, 730000.0], [1560.0, 291000.0], [1770.0, 260000.0], [1880.0, 520500.0], [1180.0, 360000.0], [3990.0, 1068000.0], [1510.0, 247000.0], [780.0, 250000.0], [860.0, 316000.0], [2560.0, 1175000.0], [1570.0, 800000.0], [1550.0, 537000.0], [1260.0, 485000.0], [420.0, 280000.0], [2960.0, 740000.0], [1920.0, 240000.0], [920.0, 255000.0], [2150.0, 607000.0], [1180.0, 275000.0], [1290.0, 310000.0], [1300.0, 501000.0], [3190.0, 795000.0], [1030.0, 469000.0], [2880.0, 579950.0], [1190.0, 390000.0], [1800.0, 632750.0], [1020.0, 235000.0], [1290.0, 525000.0], [1900.0, 685000.0], [1650.0, 438000.0], [3020.0, 630000.0], [2500.0, 350000.0], [1110.0, 255000.0], [2080.0, 345000.0], [1980.0, 319950.0], [4280.0, 1200000.0], [2250.0, 325000.0], [3720.0, 955000.0], [5774.0, 740000.0], [3590.0, 1325000.0], [1380.0, 295000.0], [1360.0, 150000.0], [1560.0, 335000.0], [3100.0, 850000.0], [2100.0, 640000.0], [2020.0, 490000.0], [2210.0, 240000.0], [2050.0, 299000.0], [810.0, 238950.0], [2950.0, 810000.0], [930.0, 500000.0], [2130.0, 220000.0], [1300.0, 300000.0], [710.0, 402000.0], [830.0, 275000.0], [2510.0, 588000.0], [1390.0, 370000.0], [2560.0, 790000.0], [1820.0, 825000.0], [2030.0, 485000.0], [770.0, 275000.0], [1210.0, 156601.0], [840.0, 308500.0], [2250.0, 559000.0], [3010.0, 775000.0], [2280.0, 535000.0], [2310.0, 495000.0], [1800.0, 875000.0], [1130.0, 437000.0], [2520.0, 420000.0], [870.0, 235000.0], [5450.0, 3418800.0], [1860.0, 350000.0], [2660.0, 549995.0], [3290.0, 947500.0], [1100.0, 130000.0], [2010.0, 495500.0], [1950.0, 262500.0], [2900.0, 352000.0], [810.0, 505000.0], [2570.0, 625700.0], [1740.0, 800000.0], [1350.0, 299999.0], [2130.0, 732600.0], [1730.0, 479000.0], [3400.0, 715000.0], [1080.0, 218250.0], [2800.0, 490000.0], [2140.0, 420000.0], [2080.0, 342500.0], [5610.0, 1583000.0], [2520.0, 1050000.0], [1940.0, 265000.0], [2100.0, 500000.0], [2610.0, 1575000.0], [2770.0, 347000.0], [3300.0, 920000.0], [1000.0, 231500.0], [3840.0, 875000.0], [1880.0, 284000.0], [1010.0, 400000.0], [2420.0, 445000.0], [1340.0, 474905.0], [1150.0, 450000.0], [2150.0, 580000.0], [2120.0, 720000.0], [1450.0, 339000.0], [2550.0, 895000.0], [4350.0, 900000.0], [910.0, 425000.0], [2670.0, 370000.0], [950.0, 475000.0], [1700.0, 437000.0], [2660.0, 590000.0], [3290.0, 810000.0], [4140.0, 810000.0], [2110.0, 796000.0], [2290.0, 625000.0], [3380.0, 1346400.0], [1560.0, 305000.0], [2200.0, 358000.0], [2220.0, 1101000.0], [1520.0, 508450.0], [2070.0, 469000.0], [1650.0, 355000.0], [2550.0, 340000.0], [2040.0, 261000.0], [2270.0, 446000.0], [1950.0, 360000.0], [1940.0, 322500.0], [1750.0, 415500.0], [1400.0, 380000.0], [1830.0, 236000.0], [1920.0, 571500.0], [960.0, 180000.0], [2720.0, 709050.0], [1700.0, 335000.0], [2810.0, 454450.0], [1790.0, 199900.0], [960.0, 332000.0], [1509.0, 420000.0], [1770.0, 200000.0], [3160.0, 1600000.0], [3090.0, 1000000.0], [1000.0, 249000.0], [1010.0, 310000.0], [3190.0, 1050000.0], [1280.0, 170000.0], [1350.0, 190000.0], [1020.0, 180000.0], [2400.0, 280000.0], [1840.0, 285000.0], [1140.0, 277000.0], [1560.0, 269000.0], [1760.0, 554000.0], [1400.0, 340000.0], [2030.0, 349500.0], [3200.0, 490000.0], [1480.0, 500000.0], [1030.0, 367500.0], [2460.0, 646000.0], [1790.0, 455000.0], [2940.0, 1600000.0], [3630.0, 400000.0], [1650.0, 500000.0], [5150.0, 1378000.0], [1220.0, 295000.0], [1810.0, 489000.0], [3100.0, 795000.0], [1440.0, 375000.0], [1900.0, 476800.0], [2950.0, 825750.0], [1240.0, 645000.0], [3906.0, 549950.0], [1890.0, 805000.0], [2700.0, 744500.0], [1690.0, 336900.0], [2480.0, 729000.0], [2070.0, 289950.0], [2400.0, 338000.0], [1640.0, 465000.0], [2270.0, 292000.0], [3500.0, 799000.0], [2420.0, 725000.0], [2890.0, 706000.0], [840.0, 185000.0], [3160.0, 589900.0], [2330.0, 325000.0], [2580.0, 673000.0], [2010.0, 605000.0], [2720.0, 690000.0], [3950.0, 1270000.0], [1550.0, 570000.0], [1280.0, 425000.0], [1740.0, 410000.0], [1790.0, 297000.0], [2970.0, 820000.0], [1410.0, 265000.0], [2320.0, 315000.0], [1980.0, 660000.0], [2970.0, 726000.0], [1940.0, 359000.0], [1870.0, 377000.0], [3040.0, 825000.0], [1650.0, 400000.0], [1650.0, 272000.0], [1090.0, 350000.0], [2080.0, 1190000.0], [2470.0, 525000.0], [890.0, 285000.0], [1480.0, 256000.0], [1080.0, 140000.0], [1620.0, 460000.0], [2160.0, 849000.0], [4420.0, 730000.0], [1670.0, 280000.0], [1820.0, 318400.0], [3990.0, 740000.0], [1400.0, 399950.0], [2080.0, 550000.0], [2690.0, 469000.0], [2880.0, 885000.0], [1890.0, 826000.0], [1820.0, 582000.0], [990.0, 269950.0], [1070.0, 406650.0], [1200.0, 170000.0], [1960.0, 180000.0], [1570.0, 214950.0], [1640.0, 311000.0], [2550.0, 675000.0], [1070.0, 315000.0], [1880.0, 320000.0], [1080.0, 325000.0], [2050.0, 210000.0], [1270.0, 379950.0], [1590.0, 411000.0], [980.0, 350000.0], [2270.0, 619850.0], [1330.0, 234999.0], [1480.0, 439000.0], [980.0, 128000.0], [3931.0, 450000.0], [860.0, 170000.0], [3010.0, 998160.0], [2060.0, 457000.0], [2160.0, 385000.0], [3290.0, 799000.0], [1910.0, 1500000.0], [2700.0, 723000.0], [2960.0, 1161000.0], [2760.0, 480000.0], [760.0, 352000.0], [1700.0, 616000.0], [970.0, 200450.0], [1860.0, 510000.0], [2540.0, 489950.0], [1770.0, 320900.0], [3350.0, 1110000.0], [2050.0, 790000.0], [2030.0, 595000.0], [2520.0, 1100000.0], [1670.0, 456000.0], [1030.0, 365000.0], [3180.0, 1130000.0], [1010.0, 175000.0], [2180.0, 910000.0], [2310.0, 524000.0], [1200.0, 227000.0], [1160.0, 275000.0], [990.0, 220500.0], [2130.0, 380000.0], [2340.0, 485000.0], [2240.0, 635000.0], [1480.0, 268000.0], [1280.0, 296500.0], [2190.0, 700000.0], [1150.0, 717000.0], [1070.0, 660000.0], [4250.0, 465000.0], [2420.0, 649950.0], [2050.0, 568000.0], [1240.0, 427500.0], [3290.0, 930000.0], [1810.0, 585000.0], [1580.0, 551000.0], [4120.0, 1851000.0], [1680.0, 286000.0], [1640.0, 308000.0], [1020.0, 625000.0], [1413.0, 286800.0], [2000.0, 318989.0], [1530.0, 418000.0], [2300.0, 738500.0], [1400.0, 242025.0], [790.0, 375000.0], [3490.0, 1264000.0], [2550.0, 855000.0], [1870.0, 275000.0], [3600.0, 875000.0], [2240.0, 555000.0], [2014.0, 321000.0], [790.0, 315000.0], [1630.0, 376500.0], [710.0, 345000.0], [640.0, 426000.0], [2270.0, 500000.0], [4080.0, 1050000.0], [2500.0, 575000.0], [2850.0, 1600000.0], [3800.0, 549900.0], [2720.0, 910000.0], [2290.0, 440000.0], [890.0, 371000.0], [3080.0, 440000.0], [1920.0, 340000.0], [1313.0, 885000.0], [2460.0, 425000.0], [1680.0, 440000.0], [1990.0, 776000.0], [2640.0, 790000.0], [930.0, 105500.0], [1870.0, 458000.0], [1130.0, 325000.0], [1970.0, 315000.0], [1060.0, 354000.0], [1590.0, 324500.0], [1200.0, 420000.0], [1910.0, 297500.0], [1260.0, 216000.0], [1700.0, 619500.0], [1400.0, 257000.0], [1880.0, 315000.0], [1280.0, 272925.0], [1860.0, 380000.0], [1810.0, 329500.0], [2350.0, 805000.0], [3100.0, 449950.0], [1960.0, 792500.0], [4220.0, 1165000.0], [2770.0, 820000.0], [2820.0, 697000.0], [2470.0, 337000.0], [2480.0, 450000.0], [1820.0, 475000.0], [1560.0, 640000.0], [1840.0, 490000.0], [1830.0, 230000.0], [1530.0, 607500.0], [3650.0, 1575000.0], [1760.0, 615000.0], [2670.0, 415000.0], [1420.0, 461000.0], [2050.0, 770000.0], [2510.0, 450800.0], [3030.0, 680000.0], [2120.0, 470000.0], [1260.0, 353500.0], [950.0, 520000.0], [1790.0, 402200.0], [2750.0, 865000.0], [1150.0, 350000.0], [1530.0, 458950.0], [2350.0, 449000.0], [1000.0, 286300.0], [4190.0, 1150000.0], [2320.0, 416100.0], [2760.0, 424950.0], [2300.0, 579000.0], [2970.0, 715000.0], [3020.0, 575000.0], [2732.0, 480000.0], [3450.0, 850000.0], [1820.0, 350000.0], [2080.0, 385000.0], [1280.0, 422250.0], [1390.0, 341000.0], [3930.0, 575000.0], [2460.0, 960000.0], [1390.0, 417500.0], [3360.0, 735000.0], [560.0, 249900.0], [710.0, 399950.0], [1320.0, 422000.0], [1600.0, 280000.0], [1000.0, 725000.0], [2560.0, 448000.0], [3310.0, 803100.0], [390.0, 245000.0], [3490.0, 759000.0], [3100.0, 302500.0], [2770.0, 283450.0], [1530.0, 570000.0], [2700.0, 680000.0], [2140.0, 481500.0], [760.0, 95000.0], [1090.0, 158000.0], [3230.0, 1776000.0], [940.0, 283000.0], [2910.0, 870000.0], [1790.0, 402000.0], [2380.0, 582000.0], [2570.0, 889000.0], [930.0, 300000.0], [1350.0, 450000.0], [2750.0, 357000.0], [1910.0, 650000.0], [3060.0, 605000.0], [1090.0, 440000.0], [1720.0, 950000.0], [880.0, 427550.0], [1200.0, 210000.0], [2180.0, 254950.0], [2880.0, 1100000.0], [1340.0, 357000.0], [2530.0, 975000.0], [5480.0, 3650000.0], [2620.0, 680000.0], [1030.0, 305000.0], [2550.0, 353000.0], [480.0, 145000.0], [1550.0, 390000.0], [840.0, 220000.0], [2740.0, 657000.0], [2060.0, 339989.0], [2040.0, 330000.0], [1820.0, 539950.0], [3130.0, 598000.0], [2130.0, 311100.0], [2850.0, 1325000.0], [1370.0, 252000.0], [3100.0, 894400.0], [1120.0, 399000.0], [3000.0, 380000.0], [1110.0, 293000.0], [1640.0, 505000.0], [1480.0, 663000.0], [2410.0, 550000.0], [2100.0, 317000.0], [3150.0, 700000.0], [2840.0, 1145000.0], [890.0, 230000.0], [1440.0, 203000.0], [2420.0, 600000.0], [1190.0, 350000.0], [1770.0, 286000.0], [4460.0, 490000.0], [2170.0, 260000.0], [1590.0, 255000.0], [2530.0, 720000.0], [1900.0, 230000.0], [1840.0, 639000.0], [1240.0, 405000.0], [1450.0, 550000.0], [2000.0, 225000.0], [1950.0, 525126.0], [1552.0, 264000.0], [1570.0, 227064.0], [1651.0, 363000.0], [2570.0, 625000.0], [2320.0, 340000.0], [2090.0, 415000.0], [4350.0, 2065000.0], [2300.0, 612000.0], [2550.0, 315000.0], [3050.0, 585000.0], [1320.0, 404500.0], [1720.0, 493000.0], [1860.0, 217000.0], [2680.0, 698000.0], [2550.0, 460000.0], [2470.0, 515000.0], [1960.0, 500000.0], [1430.0, 133000.0], [2230.0, 449000.0], [1150.0, 227000.0], [2490.0, 590000.0], [2100.0, 540000.0], [2080.0, 800000.0], [2890.0, 655000.0], [3238.0, 355425.0], [1020.0, 152275.0], [982.0, 250000.0], [1010.0, 775000.0], [2010.0, 960000.0], [2630.0, 619990.0], [860.0, 353000.0], [3230.0, 409000.0], [1500.0, 379900.0], [1350.0, 337500.0], [1830.0, 400000.0], [2170.0, 913000.0], [1370.0, 168000.0], [2120.0, 428000.0], [2280.0, 597000.0], [1980.0, 299000.0], [1690.0, 257500.0], [2360.0, 362000.0], [1170.0, 192950.0], [1600.0, 442500.0], [1560.0, 604000.0], [2920.0, 1250000.0], [1360.0, 257500.0], [1580.0, 485000.0], [1120.0, 554000.0], [1630.0, 165000.0], [1140.0, 425000.0], [2700.0, 810000.0], [1620.0, 395000.0], [1120.0, 435000.0], [2380.0, 735000.0], [1510.0, 799000.0], [2060.0, 647500.0], [2560.0, 499000.0], [2920.0, 515500.0], [1970.0, 432000.0], [3360.0, 834995.0], [1140.0, 455000.0], [1880.0, 1000000.0], [1790.0, 246950.0], [1870.0, 285000.0], [1860.0, 445000.0], [1540.0, 550000.0], [2410.0, 720000.0], [1440.0, 250000.0], [1940.0, 790000.0], [1540.0, 500000.0], [1180.0, 220000.0], [1980.0, 380000.0], [2400.0, 325000.0], [2020.0, 308000.0], [3050.0, 740000.0], [2720.0, 436000.0], [1400.0, 425000.0], [900.0, 249500.0], [2190.0, 450000.0], [910.0, 455000.0], [2830.0, 295500.0], [1430.0, 440000.0], [2740.0, 850000.0], [3320.0, 667000.0], [1860.0, 450000.0], [1640.0, 700000.0], [1110.0, 229800.0], [1380.0, 457000.0], [1200.0, 240000.0], [2520.0, 250000.0], [2160.0, 305000.0], [1050.0, 415000.0], [4030.0, 890000.0], [2600.0, 452000.0], [2090.0, 289000.0], [2220.0, 585000.0], [1920.0, 455000.0], [1700.0, 534500.0], [1620.0, 275000.0], [2320.0, 305000.0], [2500.0, 336500.0], [3560.0, 907687.0], [2000.0, 402000.0], [1400.0, 295000.0], [1540.0, 439950.0], [1890.0, 506500.0], [1480.0, 899000.0], [1560.0, 465000.0], [1030.0, 525000.0], [2220.0, 374000.0], [3056.0, 524225.0], [1130.0, 207000.0], [5000.0, 1250000.0], [3130.0, 762500.0], [1440.0, 245000.0], [1560.0, 525000.0], [2740.0, 699000.0], [4430.0, 1960000.0], [2530.0, 1120275.0], [1350.0, 394950.0], [750.0, 319000.0], [2110.0, 319000.0], [2480.0, 620000.0], [590.0, 156000.0], [4110.0, 1031000.0], [2530.0, 429000.0], [3600.0, 870515.0], [2350.0, 770000.0], [1010.0, 270000.0], [1540.0, 227500.0], [1100.0, 240000.0], [1650.0, 219950.0], [3280.0, 605000.0], [2560.0, 842500.0], [2240.0, 975000.0], [1509.0, 401500.0], [2940.0, 435000.0], [1890.0, 510000.0], [1090.0, 425000.0], [2350.0, 462500.0], [1760.0, 680000.0], [1800.0, 508000.0], [780.0, 200000.0], [1370.0, 268000.0], [1640.0, 295000.0], [2230.0, 347500.0], [1390.0, 261000.0], [2400.0, 585000.0], [2710.0, 591000.0], [1550.0, 266000.0], [2710.0, 690000.0], [1870.0, 832500.0], [3040.0, 653000.0], [1460.0, 220650.0], [1360.0, 396500.0], [1200.0, 204000.0], [1440.0, 437000.0], [3390.0, 780000.0], [2940.0, 605000.0], [670.0, 245000.0], [1510.0, 1000000.0], [2470.0, 597000.0], [1630.0, 426000.0], [1020.0, 210000.0], [710.0, 399950.0], [2601.0, 625000.0], [2500.0, 450000.0], [1445.0, 387000.0], [2020.0, 640000.0], [1120.0, 225000.0], [1620.0, 395000.0], [1590.0, 480000.0], [3310.0, 1100000.0], [2240.0, 337000.0], [2370.0, 535950.0], [3790.0, 875000.0], [3090.0, 938000.0], [1040.0, 440000.0], [1200.0, 245000.0], [1490.0, 520000.0], [2190.0, 920000.0], [2740.0, 1105000.0], [2190.0, 375000.0], [2120.0, 690000.0], [4750.0, 1309500.0], [1040.0, 430000.0], [2010.0, 479990.0], [2040.0, 240000.0], [2920.0, 859000.0], [2270.0, 656000.0], [2670.0, 669950.0]], \"columns\": [{\"dtype\": \"str\", \"name\": \"id\"}, {\"dtype\": \"datetime\", \"name\": \"date\"}, {\"dtype\": \"float\", \"name\": \"price\"}, {\"dtype\": \"float\", \"name\": \"bedrooms\"}, {\"dtype\": \"float\", \"name\": \"bathrooms\"}, {\"dtype\": \"float\", \"name\": \"sqft_living\"}, {\"dtype\": \"int\", \"name\": \"sqft_lot\"}, {\"dtype\": \"str\", \"name\": \"floors\"}, {\"dtype\": \"int\", \"name\": \"waterfront\"}, {\"dtype\": \"int\", \"name\": \"view\"}, {\"dtype\": \"int\", \"name\": \"condition\"}, {\"dtype\": \"int\", \"name\": \"grade\"}, {\"dtype\": \"int\", \"name\": \"sqft_above\"}, {\"dtype\": \"int\", \"name\": \"sqft_basement\"}, {\"dtype\": \"int\", \"name\": \"yr_built\"}, {\"dtype\": \"int\", \"name\": \"yr_renovated\"}, {\"dtype\": \"str\", \"name\": \"zipcode\"}, {\"dtype\": \"float\", \"name\": \"lat\"}, {\"dtype\": \"float\", \"name\": \"long\"}, {\"dtype\": \"float\", \"name\": \"sqft_living15\"}, {\"dtype\": \"float\", \"name\": \"sqft_lot15\"}]}, e);\n",
       "                });\n",
       "            })();\n",
       "        "
      ]
     },
     "metadata": {},
     "output_type": "display_data"
    }
   ],
   "source": [
    "graphlab.canvas.set_target('ipynb')\n",
    "test_data.show(view=\"Scatter Plot\", x=\"sqft_living\", y=\"price\")"
   ]
  },
  {
   "cell_type": "code",
   "execution_count": 56,
   "metadata": {
    "collapsed": false
   },
   "outputs": [
    {
     "data": {
      "application/javascript": [
       "$(\"head\").append($(\"<link/>\").attr({\n",
       "  rel:  \"stylesheet\",\n",
       "  type: \"text/css\",\n",
       "  href: \"//cdnjs.cloudflare.com/ajax/libs/font-awesome/4.1.0/css/font-awesome.min.css\"\n",
       "}));\n",
       "$(\"head\").append($(\"<link/>\").attr({\n",
       "  rel:  \"stylesheet\",\n",
       "  type: \"text/css\",\n",
       "  href: \"https://static.turi.com/products/graphlab-create/2.1/canvas/css/canvas.css\"\n",
       "}));\n",
       "\n",
       "            (function(){\n",
       "\n",
       "                var e = null;\n",
       "                if (typeof element == 'undefined') {\n",
       "                    var scripts = document.getElementsByTagName('script');\n",
       "                    var thisScriptTag = scripts[scripts.length-1];\n",
       "                    var parentDiv = thisScriptTag.parentNode;\n",
       "                    e = document.createElement('div');\n",
       "                    parentDiv.appendChild(e);\n",
       "                } else {\n",
       "                    e = element[0];\n",
       "                }\n",
       "\n",
       "                if (typeof requirejs !== 'undefined') {\n",
       "                    // disable load timeout; ipython_app.js is large and can take a while to load.\n",
       "                    requirejs.config({waitSeconds: 0});\n",
       "                }\n",
       "\n",
       "                require(['https://static.turi.com/products/graphlab-create/2.1/canvas/js/ipython_app.js'], function(IPythonApp){\n",
       "                    var app = new IPythonApp();\n",
       "                    app.attachView('sframe','Plots', {\"selected_variable\": {\"name\": [\"test_data\"], \"descriptives\": {\"rows\": 4229, \"columns\": 21}, \"view_component\": \"Plots\", \"view_file\": \"sframe\", \"view_params\": {\"y\": \"price\", \"x\": \"bedrooms\", \"columns\": [\"id\", \"date\", \"price\", \"bedrooms\", \"bathrooms\", \"sqft_living\", \"sqft_lot\", \"floors\", \"waterfront\", \"view\", \"condition\", \"grade\", \"sqft_above\", \"sqft_basement\", \"yr_built\", \"yr_renovated\", \"zipcode\", \"lat\", \"long\", \"sqft_living15\", \"sqft_lot15\"], \"view\": \"Scatter Plot\"}, \"view_components\": [\"Summary\", \"Table\", \"Bar Chart\", \"BoxWhisker Plot\", \"Line Chart\", \"Scatter Plot\", \"Heat Map\", \"Plots\"], \"type\": \"SFrame\", \"columns\": [{\"dtype\": \"str\", \"name\": \"id\"}, {\"dtype\": \"datetime\", \"name\": \"date\"}, {\"dtype\": \"float\", \"name\": \"price\"}, {\"dtype\": \"float\", \"name\": \"bedrooms\"}, {\"dtype\": \"float\", \"name\": \"bathrooms\"}, {\"dtype\": \"float\", \"name\": \"sqft_living\"}, {\"dtype\": \"int\", \"name\": \"sqft_lot\"}, {\"dtype\": \"str\", \"name\": \"floors\"}, {\"dtype\": \"int\", \"name\": \"waterfront\"}, {\"dtype\": \"int\", \"name\": \"view\"}, {\"dtype\": \"int\", \"name\": \"condition\"}, {\"dtype\": \"int\", \"name\": \"grade\"}, {\"dtype\": \"int\", \"name\": \"sqft_above\"}, {\"dtype\": \"int\", \"name\": \"sqft_basement\"}, {\"dtype\": \"int\", \"name\": \"yr_built\"}, {\"dtype\": \"int\", \"name\": \"yr_renovated\"}, {\"dtype\": \"str\", \"name\": \"zipcode\"}, {\"dtype\": \"float\", \"name\": \"lat\"}, {\"dtype\": \"float\", \"name\": \"long\"}, {\"dtype\": \"float\", \"name\": \"sqft_living15\"}, {\"dtype\": \"float\", \"name\": \"sqft_lot15\"}], \"column_identifiers\": [\"bathrooms\", \"sqft_living15\", \"sqft_above\", \"grade\", \"yr_built\", \"price\", \"bedrooms\", \"zipcode\", \"long\", \"id\", \"sqft_lot15\", \"sqft_living\", \"floors\", \"sqft_lot\", \"date\", \"waterfront\", \"sqft_basement\", \"yr_renovated\", \"lat\", \"condition\", \"view\"]}, \"complete\": 1, \"ipython\": true, \"progress\": 1.0, \"data\": [[4.0, 700000.0], [4.0, 529888.0], [3.0, 233000.0], [4.0, 495000.0], [4.0, 550000.0], [3.0, 465000.0], [4.0, 775000.0], [3.0, 445000.0], [3.0, 606500.0], [2.0, 250000.0], [3.0, 729000.0], [4.0, 260000.0], [4.0, 243500.0], [3.0, 247500.0], [3.0, 205000.0], [3.0, 380000.0], [2.0, 375000.0], [4.0, 700000.0], [3.0, 500000.0], [4.0, 630100.0], [4.0, 579000.0], [3.0, 391500.0], [2.0, 262500.0], [2.0, 315000.0], [4.0, 298000.0], [4.0, 432000.0], [4.0, 917500.0], [3.0, 240000.0], [3.0, 368750.0], [4.0, 350000.0], [3.0, 439000.0], [4.0, 840000.0], [3.0, 229000.0], [2.0, 280000.0], [3.0, 438000.0], [4.0, 320000.0], [4.0, 264950.0], [5.0, 1025000.0], [2.0, 455000.0], [2.0, 529950.0], [3.0, 365000.0], [4.0, 571500.0], [3.0, 675000.0], [4.0, 597000.0], [3.0, 485000.0], [2.0, 315000.0], [4.0, 265000.0], [3.0, 330000.0], [4.0, 489000.0], [4.0, 431000.0], [3.0, 208633.0], [3.0, 1190000.0], [4.0, 1384000.0], [3.0, 544000.0], [4.0, 349950.0], [3.0, 520000.0], [3.0, 435000.0], [2.0, 232000.0], [4.0, 740000.0], [4.0, 306888.0], [4.0, 940000.0], [3.0, 559900.0], [5.0, 1795000.0], [3.0, 406100.0], [3.0, 887000.0], [3.0, 476800.0], [3.0, 525000.0], [2.0, 254950.0], [4.0, 710000.0], [4.0, 735000.0], [5.0, 795000.0], [3.0, 330000.0], [4.0, 654500.0], [5.0, 998000.0], [3.0, 450000.0], [3.0, 577500.0], [5.0, 554000.0], [4.0, 370000.0], [3.0, 330000.0], [2.0, 335000.0], [4.0, 1465000.0], [2.0, 352000.0], [4.0, 1450000.0], [4.0, 1105000.0], [4.0, 339000.0], [3.0, 792500.0], [3.0, 780000.0], [2.0, 482000.0], [6.0, 384000.0], [4.0, 475000.0], [5.0, 320000.0], [3.0, 369500.0], [3.0, 280500.0], [4.0, 325500.0], [5.0, 1270000.0], [2.0, 439888.0], [4.0, 325000.0], [4.0, 1350000.0], [5.0, 640000.0], [2.0, 319950.0], [4.0, 730000.0], [2.0, 345000.0], [3.0, 370000.0], [3.0, 540000.0], [4.0, 647000.0], [1.0, 510000.0], [2.0, 240000.0], [3.0, 395000.0], [4.0, 2250000.0], [1.0, 295000.0], [4.0, 677000.0], [4.0, 825000.0], [3.0, 510000.0], [4.0, 160000.0], [3.0, 2125000.0], [4.0, 402000.0], [3.0, 165000.0], [2.0, 261000.0], [5.0, 425000.0], [5.0, 935000.0], [3.0, 452000.0], [2.0, 455000.0], [3.0, 266000.0], [4.0, 780000.0], [4.0, 870000.0], [1.0, 280000.0], [3.0, 280000.0], [4.0, 510000.0], [5.0, 565000.0], [4.0, 590000.0], [7.0, 727160.0], [3.0, 677000.0], [5.0, 850000.0], [3.0, 314950.0], [4.0, 525000.0], [4.0, 521000.0], [3.0, 525000.0], [3.0, 269900.0], [5.0, 1321625.0], [3.0, 312000.0], [3.0, 550000.0], [4.0, 865000.0], [3.0, 387500.0], [3.0, 305240.0], [4.0, 839950.0], [4.0, 695000.0], [5.0, 600000.0], [2.0, 202000.0], [3.0, 315000.0], [3.0, 307500.0], [4.0, 460000.0], [5.0, 677500.0], [1.0, 355000.0], [3.0, 780000.0], [4.0, 355000.0], [2.0, 370000.0], [3.0, 605000.0], [5.0, 649000.0], [4.0, 650000.0], [3.0, 950000.0], [2.0, 306500.0], [4.0, 856600.0], [2.0, 470000.0], [5.0, 799000.0], [3.0, 495000.0], [3.0, 716000.0], [5.0, 259875.0], [5.0, 950000.0], [5.0, 240000.0], [3.0, 352500.0], [3.0, 422120.0], [2.0, 200000.0], [3.0, 361000.0], [3.0, 654000.0], [3.0, 625000.0], [3.0, 615000.0], [4.0, 685000.0], [4.0, 970000.0], [4.0, 450000.0], [4.0, 673000.0], [2.0, 536000.0], [3.0, 275000.0], [3.0, 195000.0], [3.0, 720000.0], [4.0, 955000.0], [3.0, 577000.0], [3.0, 582000.0], [3.0, 350000.0], [4.0, 495000.0], [5.0, 480000.0], [5.0, 599000.0], [2.0, 415000.0], [5.0, 400000.0], [2.0, 390000.0], [4.0, 950000.0], [4.0, 449950.0], [3.0, 220000.0], [3.0, 345000.0], [2.0, 515000.0], [5.0, 325000.0], [2.0, 263300.0], [4.0, 835000.0], [4.0, 803100.0], [3.0, 270000.0], [4.0, 790000.0], [4.0, 336500.0], [3.0, 349950.0], [4.0, 625000.0], [3.0, 273000.0], [5.0, 850000.0], [4.0, 1525000.0], [2.0, 219000.0], [3.0, 590000.0], [3.0, 541000.0], [2.0, 467500.0], [3.0, 399950.0], [3.0, 300000.0], [3.0, 250000.0], [3.0, 360000.0], [3.0, 399950.0], [4.0, 208000.0], [3.0, 219950.0], [3.0, 340000.0], [2.0, 151000.0], [3.0, 450000.0], [3.0, 623000.0], [3.0, 238000.0], [4.0, 367000.0], [4.0, 615000.0], [4.0, 300000.0], [4.0, 723000.0], [4.0, 302000.0], [5.0, 272000.0], [4.0, 250600.0], [3.0, 225000.0], [4.0, 487000.0], [4.0, 711000.0], [3.0, 1398000.0], [3.0, 575000.0], [4.0, 449000.0], [4.0, 825000.0], [4.0, 568000.0], [3.0, 605000.0], [2.0, 585000.0], [4.0, 395000.0], [4.0, 370000.0], [2.0, 496000.0], [3.0, 361000.0], [4.0, 759900.0], [1.0, 360000.0], [2.0, 355000.0], [4.0, 468000.0], [3.0, 475000.0], [4.0, 385000.0], [1.0, 293000.0], [3.0, 354000.0], [3.0, 458000.0], [4.0, 645000.0], [2.0, 375000.0], [3.0, 375000.0], [4.0, 780000.0], [3.0, 546000.0], [3.0, 340000.0], [4.0, 410000.0], [5.0, 299000.0], [4.0, 985000.0], [4.0, 728725.0], [3.0, 585000.0], [2.0, 545000.0], [5.0, 1195000.0], [4.0, 770000.0], [3.0, 279950.0], [2.0, 110000.0], [4.0, 1200000.0], [2.0, 385000.0], [3.0, 465000.0], [3.0, 445950.0], [3.0, 274500.0], [5.0, 729953.0], [2.0, 345000.0], [3.0, 450000.0], [3.0, 303700.0], [4.0, 908950.0], [2.0, 250000.0], [3.0, 550000.0], [4.0, 1267500.0], [2.0, 325000.0], [3.0, 230000.0], [4.0, 254000.0], [5.0, 370000.0], [4.0, 479000.0], [4.0, 480000.0], [5.0, 619000.0], [3.0, 781000.0], [3.0, 545000.0], [2.0, 290000.0], [2.0, 275000.0], [2.0, 350000.0], [2.0, 352750.0], [4.0, 610000.0], [3.0, 606000.0], [4.0, 252500.0], [4.0, 442000.0], [3.0, 707500.0], [3.0, 310650.0], [5.0, 2200000.0], [3.0, 820000.0], [3.0, 425000.0], [3.0, 535000.0], [4.0, 442000.0], [3.0, 286500.0], [3.0, 550000.0], [3.0, 170000.0], [5.0, 500000.0], [3.0, 390000.0], [4.0, 605000.0], [3.0, 357500.0], [3.0, 389950.0], [4.0, 1060000.0], [4.0, 925000.0], [4.0, 760000.0], [4.0, 775000.0], [4.0, 220000.0], [3.0, 259950.0], [3.0, 699000.0], [3.0, 258000.0], [4.0, 448000.0], [4.0, 575000.0], [3.0, 130000.0], [6.0, 900000.0], [3.0, 242500.0], [3.0, 420000.0], [2.0, 225000.0], [4.0, 471000.0], [3.0, 650000.0], [4.0, 250000.0], [3.0, 203000.0], [3.0, 415000.0], [4.0, 518000.0], [3.0, 290000.0], [3.0, 475000.0], [5.0, 599950.0], [4.0, 955000.0], [2.0, 355000.0], [3.0, 255000.0], [4.0, 400000.0], [3.0, 250000.0], [3.0, 500000.0], [4.0, 825000.0], [4.0, 330000.0], [4.0, 240000.0], [6.0, 6885000.0], [3.0, 340000.0], [5.0, 420000.0], [3.0, 453000.0], [3.0, 1150000.0], [4.0, 785950.0], [4.0, 539500.0], [3.0, 337000.0], [3.0, 667000.0], [3.0, 469000.0], [5.0, 1175000.0], [4.0, 2350000.0], [4.0, 400000.0], [2.0, 215500.0], [3.0, 200000.0], [4.0, 600000.0], [3.0, 453000.0], [3.0, 574000.0], [4.0, 285000.0], [3.0, 301000.0], [5.0, 655000.0], [3.0, 260000.0], [4.0, 1200000.0], [2.0, 469000.0], [4.0, 1699990.0], [3.0, 249000.0], [3.0, 580000.0], [3.0, 805000.0], [4.0, 500000.0], [5.0, 685000.0], [3.0, 750000.0], [4.0, 207000.0], [3.0, 450000.0], [4.0, 411800.0], [4.0, 615000.0], [3.0, 835000.0], [3.0, 294000.0], [3.0, 325000.0], [2.0, 390000.0], [4.0, 1350000.0], [4.0, 272000.0], [4.0, 645000.0], [4.0, 1481000.0], [3.0, 335000.0], [2.0, 532500.0], [2.0, 301500.0], [3.0, 445000.0], [3.0, 625000.0], [3.0, 219000.0], [4.0, 1030000.0], [3.0, 485000.0], [5.0, 1300000.0], [4.0, 535000.0], [4.0, 500000.0], [3.0, 830000.0], [4.0, 734950.0], [4.0, 870000.0], [1.0, 227000.0], [3.0, 950000.0], [3.0, 205000.0], [3.0, 439950.0], [3.0, 320000.0], [3.0, 585000.0], [3.0, 1568000.0], [4.0, 380000.0], [3.0, 209950.0], [3.0, 470000.0], [4.0, 349000.0], [3.0, 150000.0], [5.0, 1250000.0], [3.0, 489950.0], [2.0, 235000.0], [3.0, 225000.0], [3.0, 285000.0], [4.0, 285000.0], [3.0, 475000.0], [4.0, 537000.0], [4.0, 485000.0], [2.0, 700000.0], [2.0, 350000.0], [4.0, 723000.0], [3.0, 906000.0], [2.0, 800000.0], [4.0, 390000.0], [4.0, 359800.0], [3.0, 655000.0], [4.0, 360000.0], [2.0, 310000.0], [4.0, 630000.0], [2.0, 285000.0], [3.0, 347500.0], [4.0, 825000.0], [4.0, 449000.0], [3.0, 419500.0], [5.0, 1400000.0], [4.0, 311750.0], [4.0, 347000.0], [3.0, 275000.0], [5.0, 509500.0], [2.0, 612125.0], [3.0, 415000.0], [4.0, 260000.0], [2.0, 468000.0], [2.0, 399950.0], [4.0, 403500.0], [2.0, 306000.0], [4.0, 715000.0], [3.0, 569000.0], [3.0, 450000.0], [3.0, 1330000.0], [4.0, 965000.0], [3.0, 685000.0], [4.0, 599950.0], [4.0, 437000.0], [4.0, 385000.0], [7.0, 730000.0], [4.0, 749500.0], [4.0, 426000.0], [4.0, 1013050.0], [3.0, 649500.0], [4.0, 305000.0], [4.0, 301000.0], [2.0, 441750.0], [4.0, 935000.0], [4.0, 420000.0], [2.0, 442000.0], [2.0, 510000.0], [3.0, 359000.0], [4.0, 446000.0], [3.0, 325000.0], [2.0, 199950.0], [3.0, 338950.0], [4.0, 1250000.0], [3.0, 335000.0], [3.0, 650000.0], [4.0, 980000.0], [3.0, 745000.0], [3.0, 203000.0], [2.0, 306000.0], [3.0, 355000.0], [4.0, 355950.0], [2.0, 175000.0], [2.0, 325000.0], [3.0, 1600000.0], [2.0, 337000.0], [4.0, 697000.0], [3.0, 471001.0], [4.0, 525000.0], [4.0, 1255000.0], [3.0, 294000.0], [5.0, 775000.0], [6.0, 280000.0], [2.0, 483000.0], [3.0, 390000.0], [3.0, 269000.0], [2.0, 347000.0], [4.0, 573000.0], [4.0, 1925000.0], [5.0, 415000.0], [3.0, 465000.0], [5.0, 875000.0], [3.0, 646000.0], [2.0, 335900.0], [3.0, 169000.0], [5.0, 1346400.0], [3.0, 420000.0], [3.0, 275000.0], [4.0, 540000.0], [2.0, 265050.0], [2.0, 207000.0], [4.0, 370000.0], [3.0, 725000.0], [4.0, 994900.0], [4.0, 680000.0], [2.0, 325000.0], [2.0, 381500.0], [4.0, 675000.0], [3.0, 365000.0], [3.0, 420000.0], [3.0, 395000.0], [4.0, 980000.0], [4.0, 872000.0], [4.0, 270000.0], [4.0, 475000.0], [5.0, 350000.0], [4.0, 751000.0], [4.0, 594491.0], [3.0, 590000.0], [3.0, 456150.0], [6.0, 470000.0], [3.0, 313000.0], [4.0, 415000.0], [3.0, 240000.0], [2.0, 780000.0], [3.0, 320000.0], [3.0, 259000.0], [4.0, 298500.0], [3.0, 255000.0], [4.0, 699900.0], [4.0, 278500.0], [4.0, 535000.0], [3.0, 216500.0], [4.0, 725126.0], [3.0, 479000.0], [4.0, 526000.0], [3.0, 275000.0], [4.0, 638500.0], [3.0, 223000.0], [2.0, 518000.0], [3.0, 525000.0], [3.0, 459950.0], [3.0, 390000.0], [4.0, 900000.0], [3.0, 425000.0], [3.0, 520000.0], [5.0, 1610000.0], [3.0, 576000.0], [2.0, 459500.0], [3.0, 425000.0], [3.0, 270000.0], [5.0, 534000.0], [3.0, 322000.0], [3.0, 199500.0], [4.0, 329950.0], [4.0, 303210.0], [4.0, 700000.0], [2.0, 406650.0], [2.0, 367500.0], [3.0, 180000.0], [2.0, 510000.0], [3.0, 930000.0], [2.0, 589900.0], [4.0, 3400000.0], [3.0, 583500.0], [3.0, 455000.0], [4.0, 650000.0], [4.0, 620000.0], [2.0, 410500.0], [2.0, 455000.0], [1.0, 167000.0], [3.0, 375000.0], [4.0, 339888.0], [3.0, 239900.0], [1.0, 145000.0], [3.0, 999000.0], [3.0, 258000.0], [3.0, 175000.0], [3.0, 200000.0], [4.0, 504058.0], [4.0, 375000.0], [3.0, 590000.0], [3.0, 724500.0], [3.0, 462000.0], [4.0, 441000.0], [3.0, 260000.0], [3.0, 1450000.0], [5.0, 500000.0], [2.0, 385000.0], [4.0, 565000.0], [4.0, 1799000.0], [3.0, 252000.0], [3.0, 330490.0], [3.0, 535000.0], [3.0, 290000.0], [5.0, 580000.0], [3.0, 236000.0], [3.0, 158800.0], [4.0, 1160000.0], [3.0, 470000.0], [3.0, 759000.0], [2.0, 275000.0], [2.0, 450000.0], [3.0, 178500.0], [3.0, 475000.0], [4.0, 575000.0], [2.0, 393000.0], [3.0, 500000.0], [4.0, 587500.0], [3.0, 225000.0], [3.0, 575000.0], [3.0, 259000.0], [2.0, 253500.0], [3.0, 489000.0], [3.0, 399000.0], [4.0, 682000.0], [3.0, 246950.0], [3.0, 550000.0], [4.0, 652600.0], [4.0, 229950.0], [4.0, 600000.0], [3.0, 530000.0], [3.0, 396500.0], [3.0, 315000.0], [3.0, 418000.0], [3.0, 448000.0], [3.0, 452000.0], [2.0, 405000.0], [3.0, 578000.0], [3.0, 435000.0], [2.0, 557000.0], [3.0, 214950.0], [3.0, 500000.0], [3.0, 285000.0], [3.0, 885000.0], [3.0, 785000.0], [4.0, 230000.0], [2.0, 426000.0], [4.0, 490000.0], [3.0, 352000.0], [3.0, 240000.0], [3.0, 319000.0], [5.0, 549900.0], [4.0, 452000.0], [3.0, 826000.0], [3.0, 400000.0], [3.0, 340000.0], [4.0, 360000.0], [3.0, 264950.0], [4.0, 1228000.0], [2.0, 494000.0], [3.0, 335000.0], [2.0, 107000.0], [4.0, 2065000.0], [3.0, 872750.0], [4.0, 429900.0], [4.0, 352000.0], [3.0, 600000.0], [4.0, 390000.0], [4.0, 468000.0], [2.0, 325000.0], [3.0, 216000.0], [3.0, 368000.0], [4.0, 280000.0], [4.0, 285000.0], [2.0, 275000.0], [4.0, 600000.0], [3.0, 329500.0], [3.0, 300000.0], [3.0, 249000.0], [3.0, 650000.0], [2.0, 325000.0], [3.0, 629000.0], [3.0, 369946.0], [4.0, 479900.0], [4.0, 967000.0], [4.0, 425000.0], [4.0, 535000.0], [2.0, 266000.0], [4.0, 685000.0], [3.0, 802000.0], [5.0, 1575000.0], [4.0, 588000.0], [3.0, 725000.0], [5.0, 1200000.0], [5.0, 424950.0], [4.0, 269000.0], [4.0, 1081000.0], [3.0, 147400.0], [4.0, 435000.0], [3.0, 240000.0], [4.0, 275000.0], [3.0, 565000.0], [3.0, 815000.0], [2.0, 350000.0], [5.0, 525000.0], [4.0, 415000.0], [3.0, 180000.0], [4.0, 510000.0], [3.0, 279000.0], [3.0, 222000.0], [4.0, 715000.0], [3.0, 595000.0], [3.0, 480000.0], [2.0, 492000.0], [2.0, 277700.0], [4.0, 362000.0], [4.0, 1800000.0], [4.0, 490000.0], [3.0, 412000.0], [3.0, 320900.0], [3.0, 315000.0], [3.0, 1775000.0], [4.0, 2546000.0], [3.0, 775000.0], [4.0, 423000.0], [2.0, 425000.0], [6.0, 300000.0], [2.0, 1190000.0], [3.0, 312500.0], [2.0, 549000.0], [3.0, 390000.0], [3.0, 279000.0], [3.0, 374950.0], [4.0, 436000.0], [4.0, 587000.0], [2.0, 160000.0], [3.0, 235000.0], [3.0, 1430000.0], [4.0, 709050.0], [4.0, 635000.0], [4.0, 685000.0], [2.0, 220000.0], [4.0, 399950.0], [4.0, 889000.0], [3.0, 300000.0], [3.0, 576750.0], [4.0, 850000.0], [3.0, 319500.0], [3.0, 800000.0], [3.0, 425000.0], [3.0, 275000.0], [5.0, 1030000.0], [2.0, 253000.0], [3.0, 660000.0], [2.0, 330000.0], [3.0, 270000.0], [3.0, 819000.0], [5.0, 1250000.0], [2.0, 245000.0], [3.0, 365000.0], [4.0, 630000.0], [5.0, 718000.0], [3.0, 124000.0], [2.0, 220000.0], [4.0, 211000.0], [4.0, 555000.0], [3.0, 510000.0], [4.0, 825000.0], [2.0, 210000.0], [2.0, 374000.0], [4.0, 845800.0], [4.0, 350000.0], [3.0, 299950.0], [4.0, 725000.0], [3.0, 442500.0], [3.0, 535000.0], [3.0, 400000.0], [3.0, 1776000.0], [4.0, 333000.0], [3.0, 239950.0], [5.0, 779000.0], [2.0, 615000.0], [4.0, 730000.0], [2.0, 102500.0], [3.0, 86500.0], [4.0, 450000.0], [5.0, 1375000.0], [2.0, 458000.0], [3.0, 430000.0], [3.0, 241250.0], [4.0, 1161000.0], [3.0, 517000.0], [4.0, 639000.0], [4.0, 905000.0], [2.0, 340000.0], [5.0, 585083.0], [3.0, 865000.0], [3.0, 580000.0], [3.0, 319950.0], [3.0, 405000.0], [3.0, 260000.0], [3.0, 518000.0], [5.0, 635000.0], [3.0, 244000.0], [3.0, 580000.0], [3.0, 424305.0], [3.0, 220000.0], [3.0, 395000.0], [6.0, 800000.0], [5.0, 1010000.0], [2.0, 230005.0], [3.0, 429000.0], [4.0, 650000.0], [2.0, 550500.0], [3.0, 320000.0], [5.0, 791000.0], [2.0, 422000.0], [4.0, 304000.0], [2.0, 287000.0], [5.0, 362000.0], [4.0, 900000.0], [4.0, 199900.0], [3.0, 580000.0], [3.0, 420000.0], [4.0, 868000.0], [3.0, 310000.0], [4.0, 550000.0], [4.0, 423000.0], [2.0, 406000.0], [4.0, 658500.0], [4.0, 478000.0], [2.0, 587100.0], [3.0, 584000.0], [3.0, 437500.0], [3.0, 710000.0], [4.0, 2135000.0], [3.0, 745000.0], [3.0, 292000.0], [2.0, 290000.0], [4.0, 730000.0], [3.0, 265000.0], [3.0, 600000.0], [3.0, 550000.0], [2.0, 195000.0], [3.0, 225000.0], [4.0, 879900.0], [3.0, 712000.0], [4.0, 311000.0], [3.0, 775000.0], [3.0, 493000.0], [5.0, 1190000.0], [2.0, 437000.0], [4.0, 619850.0], [5.0, 1400000.0], [3.0, 530000.0], [3.0, 215500.0], [4.0, 277500.0], [3.0, 375000.0], [2.0, 447000.0], [2.0, 425000.0], [4.0, 374950.0], [4.0, 285000.0], [2.0, 330000.0], [2.0, 448000.0], [3.0, 812000.0], [2.0, 379500.0], [4.0, 730000.0], [2.0, 209995.0], [4.0, 392000.0], [4.0, 1190000.0], [5.0, 352000.0], [4.0, 765000.0], [2.0, 325000.0], [4.0, 530000.0], [5.0, 425000.0], [8.0, 900000.0], [4.0, 444900.0], [3.0, 299000.0], [4.0, 295500.0], [3.0, 500000.0], [4.0, 300000.0], [4.0, 358000.0], [3.0, 223000.0], [3.0, 255000.0], [4.0, 565000.0], [4.0, 700000.0], [2.0, 141800.0], [2.0, 427550.0], [3.0, 627000.0], [3.0, 362300.0], [4.0, 374000.0], [4.0, 238000.0], [3.0, 650000.0], [3.0, 185000.0], [3.0, 350000.0], [3.0, 534500.0], [4.0, 318989.0], [3.0, 184900.0], [2.0, 370000.0], [4.0, 299000.0], [3.0, 575000.0], [3.0, 440000.0], [4.0, 1200000.0], [4.0, 245000.0], [3.0, 500000.0], [3.0, 1637500.0], [4.0, 590000.0], [3.0, 210000.0], [3.0, 765000.0], [3.0, 225000.0], [3.0, 485000.0], [5.0, 646000.0], [3.0, 850000.0], [5.0, 775000.0], [5.0, 712500.0], [4.0, 530200.0], [3.0, 666000.0], [2.0, 330000.0], [3.0, 565000.0], [2.0, 487000.0], [2.0, 250000.0], [4.0, 1415000.0], [3.0, 220000.0], [3.0, 770000.0], [2.0, 110000.0], [2.0, 170000.0], [5.0, 825000.0], [2.0, 525000.0], [4.0, 825000.0], [4.0, 650000.0], [4.0, 320000.0], [4.0, 415000.0], [6.0, 435000.0], [3.0, 440000.0], [3.0, 209950.0], [3.0, 215000.0], [1.0, 188000.0], [3.0, 248000.0], [5.0, 407500.0], [4.0, 581000.0], [5.0, 330000.0], [5.0, 1138990.0], [4.0, 295000.0], [3.0, 520000.0], [4.0, 261000.0], [1.0, 185000.0], [3.0, 500000.0], [3.0, 390000.0], [3.0, 620000.0], [4.0, 1040000.0], [4.0, 626100.0], [4.0, 471000.0], [2.0, 849900.0], [4.0, 440000.0], [4.0, 635000.0], [3.0, 780000.0], [3.0, 1600000.0], [5.0, 393000.0], [2.0, 300000.0], [3.0, 470000.0], [3.0, 450000.0], [4.0, 340000.0], [5.0, 815000.0], [4.0, 625000.0], [2.0, 380000.0], [2.0, 335000.0], [3.0, 490000.0], [4.0, 537000.0], [3.0, 395000.0], [3.0, 692500.0], [5.0, 547000.0], [3.0, 752888.0], [4.0, 640000.0], [4.0, 320000.0], [2.0, 453000.0], [4.0, 725000.0], [2.0, 261000.0], [3.0, 490000.0], [3.0, 468000.0], [4.0, 249000.0], [4.0, 600000.0], [4.0, 335000.0], [4.0, 207000.0], [5.0, 294000.0], [3.0, 420000.0], [3.0, 249900.0], [3.0, 275000.0], [2.0, 656000.0], [3.0, 850000.0]], \"columns\": [{\"dtype\": \"str\", \"name\": \"id\"}, {\"dtype\": \"datetime\", \"name\": \"date\"}, {\"dtype\": \"float\", \"name\": \"price\"}, {\"dtype\": \"float\", \"name\": \"bedrooms\"}, {\"dtype\": \"float\", \"name\": \"bathrooms\"}, {\"dtype\": \"float\", \"name\": \"sqft_living\"}, {\"dtype\": \"int\", \"name\": \"sqft_lot\"}, {\"dtype\": \"str\", \"name\": \"floors\"}, {\"dtype\": \"int\", \"name\": \"waterfront\"}, {\"dtype\": \"int\", \"name\": \"view\"}, {\"dtype\": \"int\", \"name\": \"condition\"}, {\"dtype\": \"int\", \"name\": \"grade\"}, {\"dtype\": \"int\", \"name\": \"sqft_above\"}, {\"dtype\": \"int\", \"name\": \"sqft_basement\"}, {\"dtype\": \"int\", \"name\": \"yr_built\"}, {\"dtype\": \"int\", \"name\": \"yr_renovated\"}, {\"dtype\": \"str\", \"name\": \"zipcode\"}, {\"dtype\": \"float\", \"name\": \"lat\"}, {\"dtype\": \"float\", \"name\": \"long\"}, {\"dtype\": \"float\", \"name\": \"sqft_living15\"}, {\"dtype\": \"float\", \"name\": \"sqft_lot15\"}]}, e);\n",
       "                });\n",
       "            })();\n",
       "        "
      ]
     },
     "metadata": {},
     "output_type": "display_data"
    }
   ],
   "source": [
    "graphlab.canvas.set_target('ipynb')\n",
    "test_data.show(view=\"Scatter Plot\", x=\"bedrooms\", y=\"price\")"
   ]
  },
  {
   "cell_type": "code",
   "execution_count": null,
   "metadata": {
    "collapsed": true
   },
   "outputs": [],
   "source": []
  }
 ],
 "metadata": {
  "kernelspec": {
   "display_name": "Python 3",
   "language": "python",
   "name": "python3"
  },
  "language_info": {
   "codemirror_mode": {
    "name": "ipython",
    "version": 3
   },
   "file_extension": ".py",
   "mimetype": "text/x-python",
   "name": "python",
   "nbconvert_exporter": "python",
   "pygments_lexer": "ipython3",
   "version": "3.6.0"
  }
 },
 "nbformat": 4,
 "nbformat_minor": 0
}
